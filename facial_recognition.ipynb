{
 "cells": [
  {
   "cell_type": "code",
   "execution_count": 24,
   "metadata": {},
   "outputs": [],
   "source": [
    "!wget -q --load-cookies /tmp/cookies.txt \"https://docs.google.com/uc?export=download&confirm=$(wget --quiet --save-cookies /tmp/cookies.txt --keep-session-cookies --no-check-certificate 'https://docs.google.com/uc?export=download&id=1p1wjaqpTh_5RHfJu4vUh8JJCdKwYMHCp' -O- | sed -rn 's/.*confirm=([0-9A-Za-z_]+).*/\\1\\n/p')&id=1p1wjaqpTh_5RHfJu4vUh8JJCdKwYMHCp\" -O data && rm -rf /tmp/cookies.txt\n",
    "!unzip -q data && rm data"
   ]
  },
  {
   "cell_type": "code",
   "execution_count": 30,
   "metadata": {},
   "outputs": [
    {
     "name": "stdout",
     "output_type": "stream",
     "text": [
      "5749\n"
     ]
    }
   ],
   "source": [
    "!ls lfw2/lfw2/Aaron_Eckhart/ | wc -l"
   ]
  },
  {
   "cell_type": "code",
   "execution_count": 40,
   "metadata": {},
   "outputs": [
    {
     "data": {
      "text/plain": [
       "530"
      ]
     },
     "execution_count": 40,
     "metadata": {},
     "output_type": "execute_result"
    }
   ],
   "source": [
    "import glob\n",
    "\n",
    "files = glob.glob('lfw2/lfw2/George_W_Bush/*.jpg')\n",
    "len(files)"
   ]
  },
  {
   "cell_type": "code",
   "execution_count": 38,
   "metadata": {},
   "outputs": [
    {
     "data": {
      "text/plain": [
       "['lfw2/lfw2/Alejandro_Toledo/Alejandro_Toledo_0001.jpg',\n",
       " 'lfw2/lfw2/Alejandro_Toledo/Alejandro_Toledo_0002.jpg',\n",
       " 'lfw2/lfw2/Alejandro_Toledo/Alejandro_Toledo_0003.jpg',\n",
       " 'lfw2/lfw2/Alejandro_Toledo/Alejandro_Toledo_0004.jpg',\n",
       " 'lfw2/lfw2/Alejandro_Toledo/Alejandro_Toledo_0005.jpg',\n",
       " 'lfw2/lfw2/Alejandro_Toledo/Alejandro_Toledo_0006.jpg',\n",
       " 'lfw2/lfw2/Alejandro_Toledo/Alejandro_Toledo_0007.jpg',\n",
       " 'lfw2/lfw2/Alejandro_Toledo/Alejandro_Toledo_0008.jpg',\n",
       " 'lfw2/lfw2/Alejandro_Toledo/Alejandro_Toledo_0009.jpg',\n",
       " 'lfw2/lfw2/Alejandro_Toledo/Alejandro_Toledo_0010.jpg',\n",
       " 'lfw2/lfw2/Alejandro_Toledo/Alejandro_Toledo_0011.jpg',\n",
       " 'lfw2/lfw2/Alejandro_Toledo/Alejandro_Toledo_0012.jpg',\n",
       " 'lfw2/lfw2/Alejandro_Toledo/Alejandro_Toledo_0013.jpg',\n",
       " 'lfw2/lfw2/Alejandro_Toledo/Alejandro_Toledo_0014.jpg',\n",
       " 'lfw2/lfw2/Alejandro_Toledo/Alejandro_Toledo_0015.jpg',\n",
       " 'lfw2/lfw2/Alejandro_Toledo/Alejandro_Toledo_0016.jpg',\n",
       " 'lfw2/lfw2/Alejandro_Toledo/Alejandro_Toledo_0017.jpg',\n",
       " 'lfw2/lfw2/Alejandro_Toledo/Alejandro_Toledo_0018.jpg',\n",
       " 'lfw2/lfw2/Alejandro_Toledo/Alejandro_Toledo_0019.jpg',\n",
       " 'lfw2/lfw2/Alejandro_Toledo/Alejandro_Toledo_0020.jpg',\n",
       " 'lfw2/lfw2/Alejandro_Toledo/Alejandro_Toledo_0021.jpg',\n",
       " 'lfw2/lfw2/Alejandro_Toledo/Alejandro_Toledo_0022.jpg',\n",
       " 'lfw2/lfw2/Alejandro_Toledo/Alejandro_Toledo_0023.jpg',\n",
       " 'lfw2/lfw2/Alejandro_Toledo/Alejandro_Toledo_0024.jpg',\n",
       " 'lfw2/lfw2/Alejandro_Toledo/Alejandro_Toledo_0025.jpg',\n",
       " 'lfw2/lfw2/Alejandro_Toledo/Alejandro_Toledo_0026.jpg',\n",
       " 'lfw2/lfw2/Alejandro_Toledo/Alejandro_Toledo_0027.jpg',\n",
       " 'lfw2/lfw2/Alejandro_Toledo/Alejandro_Toledo_0028.jpg',\n",
       " 'lfw2/lfw2/Alejandro_Toledo/Alejandro_Toledo_0029.jpg',\n",
       " 'lfw2/lfw2/Alejandro_Toledo/Alejandro_Toledo_0030.jpg',\n",
       " 'lfw2/lfw2/Alejandro_Toledo/Alejandro_Toledo_0031.jpg',\n",
       " 'lfw2/lfw2/Alejandro_Toledo/Alejandro_Toledo_0032.jpg',\n",
       " 'lfw2/lfw2/Alejandro_Toledo/Alejandro_Toledo_0033.jpg',\n",
       " 'lfw2/lfw2/Alejandro_Toledo/Alejandro_Toledo_0034.jpg',\n",
       " 'lfw2/lfw2/Alejandro_Toledo/Alejandro_Toledo_0035.jpg',\n",
       " 'lfw2/lfw2/Alejandro_Toledo/Alejandro_Toledo_0036.jpg',\n",
       " 'lfw2/lfw2/Alejandro_Toledo/Alejandro_Toledo_0037.jpg',\n",
       " 'lfw2/lfw2/Alejandro_Toledo/Alejandro_Toledo_0038.jpg',\n",
       " 'lfw2/lfw2/Alejandro_Toledo/Alejandro_Toledo_0039.jpg']"
      ]
     },
     "execution_count": 38,
     "metadata": {},
     "output_type": "execute_result"
    }
   ],
   "source": [
    "files"
   ]
  },
  {
   "cell_type": "code",
   "execution_count": null,
   "metadata": {},
   "outputs": [],
   "source": []
  }
 ],
 "metadata": {
  "kernelspec": {
   "display_name": "Python (tf-env)",
   "language": "python",
   "name": "tf-env"
  },
  "language_info": {
   "codemirror_mode": {
    "name": "ipython",
    "version": 3
   },
   "file_extension": ".py",
   "mimetype": "text/x-python",
   "name": "python",
   "nbconvert_exporter": "python",
   "pygments_lexer": "ipython3",
   "version": "3.8.6"
  }
 },
 "nbformat": 4,
 "nbformat_minor": 4
}
